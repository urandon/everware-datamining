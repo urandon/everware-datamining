{
 "cells": [
  {
   "cell_type": "markdown",
   "metadata": {
    "heading_collapsed": false,
    "level": 1
   },
   "source": [
    "# Задание msusums\n",
    "## Выполнил: Хомутов Никита Юрьевич\n",
    "## Студент 517 группы ВМК МГУ"
   ]
  },
  {
   "cell_type": "code",
   "execution_count": 1,
   "metadata": {
    "collapsed": false
   },
   "outputs": [
    {
     "name": "stdout",
     "output_type": "stream",
     "text": [
      "Populating the interactive namespace from numpy and matplotlib\n"
     ]
    }
   ],
   "source": [
    "import pandas as pd\n",
    "import numpy as np\n",
    "%pylab inline"
   ]
  },
  {
   "cell_type": "markdown",
   "metadata": {},
   "source": [
    "Скачаем данные с Inclass Kaggle. Для этого потребуется активный аккаунт."
   ]
  },
  {
   "cell_type": "code",
   "execution_count": null,
   "metadata": {
    "collapsed": true
   },
   "outputs": [],
   "source": [
    "!mkdir -p data/ans"
   ]
  },
  {
   "cell_type": "code",
   "execution_count": 2,
   "metadata": {
    "collapsed": false
   },
   "outputs": [],
   "source": [
    "import shutil\n",
    "import requests\n",
    "import os\n",
    "from hashlib import md5\n",
    "\n",
    "login_url = 'https://inclass.kaggle.com/account/login'\n",
    "data_url = 'https://inclass.kaggle.com/c/msusums/download/X.csv'\n",
    "data_filename = 'data/msusums_X.csv'\n",
    "data_hash = '5023c17d654f7bac531f40e595979e1a'\n",
    "login_data = {\n",
    "    'UserName': 'kaggle_username',\n",
    "    'Password': 'kaggle_password'\n",
    "}\n",
    "\n",
    "if not os.path.isfile(data_filename) or\\\n",
    "    md5(open(data_filename, 'r').read()).hexdigest() != data_hash:\n",
    "    with requests.session() as s, open(filename, 'wb') as f:\n",
    "        s.post(login_url, data=login_data)\n",
    "        response = s.get(data_url, stream=True)\n",
    "        shutil.copyfileobj(response.raw, f)"
   ]
  },
  {
   "cell_type": "code",
   "execution_count": 3,
   "metadata": {
    "collapsed": false
   },
   "outputs": [],
   "source": [
    "dfX = pd.read_csv(data_filename)"
   ]
  },
  {
   "cell_type": "code",
   "execution_count": 4,
   "metadata": {
    "collapsed": false
   },
   "outputs": [
    {
     "data": {
      "text/html": [
       "<div>\n",
       "<table border=\"1\" class=\"dataframe\">\n",
       "  <thead>\n",
       "    <tr style=\"text-align: right;\">\n",
       "      <th></th>\n",
       "      <th>user</th>\n",
       "      <th>day</th>\n",
       "      <th>sum</th>\n",
       "    </tr>\n",
       "  </thead>\n",
       "  <tbody>\n",
       "    <tr>\n",
       "      <th>0</th>\n",
       "      <td>1</td>\n",
       "      <td>3</td>\n",
       "      <td>1146</td>\n",
       "    </tr>\n",
       "    <tr>\n",
       "      <th>1</th>\n",
       "      <td>1</td>\n",
       "      <td>5</td>\n",
       "      <td>71</td>\n",
       "    </tr>\n",
       "    <tr>\n",
       "      <th>2</th>\n",
       "      <td>1</td>\n",
       "      <td>6</td>\n",
       "      <td>65</td>\n",
       "    </tr>\n",
       "    <tr>\n",
       "      <th>3</th>\n",
       "      <td>1</td>\n",
       "      <td>10</td>\n",
       "      <td>63</td>\n",
       "    </tr>\n",
       "    <tr>\n",
       "      <th>4</th>\n",
       "      <td>1</td>\n",
       "      <td>12</td>\n",
       "      <td>31</td>\n",
       "    </tr>\n",
       "  </tbody>\n",
       "</table>\n",
       "</div>"
      ],
      "text/plain": [
       "   user  day   sum\n",
       "0     1    3  1146\n",
       "1     1    5    71\n",
       "2     1    6    65\n",
       "3     1   10    63\n",
       "4     1   12    31"
      ]
     },
     "execution_count": 4,
     "metadata": {},
     "output_type": "execute_result"
    }
   ],
   "source": [
    "dfX.head()"
   ]
  },
  {
   "cell_type": "code",
   "execution_count": 5,
   "metadata": {
    "collapsed": false
   },
   "outputs": [
    {
     "data": {
      "image/png": "[encoded data removed]",
      "text/plain": [
       "<matplotlib.figure.Figure at 0x7f489d899990>"
      ]
     },
     "metadata": {},
     "output_type": "display_data"
    }
   ],
   "source": [
    "fig = figure(figsize=(8, 6))\n",
    "hist(dfX['user'].value_counts().values)\n",
    "grid()\n",
    "title('Days per user')\n",
    "show()"
   ]
  },
  {
   "cell_type": "markdown",
   "metadata": {},
   "source": [
    "Пользователей, о которых совсем ничего не известно, нет"
   ]
  },
  {
   "cell_type": "markdown",
   "metadata": {},
   "source": [
    "Добавим информацию о дне недели.\n",
    "Добавим явный ключ в df, дабы потом упростить себе жизнь."
   ]
  },
  {
   "cell_type": "code",
   "execution_count": 6,
   "metadata": {
    "collapsed": false
   },
   "outputs": [],
   "source": [
    "days_in_week = 7\n",
    "dfX['weekday'] = dfX['day'] % days_in_week\n",
    "dfX['week_number'] = dfX['day'] // days_in_week\n",
    "dfX['key'] = dfX.index"
   ]
  },
  {
   "cell_type": "markdown",
   "metadata": {},
   "source": [
    "К каждой неделе поставим в соответствие индекс. Последняя неделя, посещённая клиентом, получает индекс 1. Предпоследняя 2. И т.д."
   ]
  },
  {
   "cell_type": "code",
   "execution_count": 7,
   "metadata": {
    "collapsed": false
   },
   "outputs": [],
   "source": [
    "dfX['week_idx'] = dfX.groupby('user').week_number.rank(method='dense', ascending=False)"
   ]
  },
  {
   "cell_type": "markdown",
   "metadata": {},
   "source": [
    "Добавим количество недель, посещённых юзером. Неэффективность по памяти компенсируется скоростью (всё же pandas -- это не SQL)."
   ]
  },
  {
   "cell_type": "code",
   "execution_count": 8,
   "metadata": {
    "collapsed": true
   },
   "outputs": [],
   "source": [
    "s_nweeks = dfX.groupby('user').week_number.nunique().to_frame()\n",
    "s_nweeks.columns = ['n_weeks']\n",
    "dfX = pd.merge(dfX, s_nweeks, left_on='user', right_index=True)"
   ]
  },
  {
   "cell_type": "code",
   "execution_count": 9,
   "metadata": {
    "collapsed": true
   },
   "outputs": [],
   "source": [
    "dfX.drop('week_number', axis=1, inplace=True)"
   ]
  },
  {
   "cell_type": "markdown",
   "metadata": {},
   "source": [
    "Цель прогноза:"
   ]
  },
  {
   "cell_type": "code",
   "execution_count": 10,
   "metadata": {
    "collapsed": false
   },
   "outputs": [
    {
     "data": {
      "text/html": [
       "<div>\n",
       "<table border=\"1\" class=\"dataframe\">\n",
       "  <thead>\n",
       "    <tr style=\"text-align: right;\">\n",
       "      <th></th>\n",
       "      <th>day</th>\n",
       "      <th>sum</th>\n",
       "      <th>weekday</th>\n",
       "      <th>key</th>\n",
       "      <th>week_idx</th>\n",
       "      <th>n_weeks</th>\n",
       "    </tr>\n",
       "    <tr>\n",
       "      <th>user</th>\n",
       "      <th></th>\n",
       "      <th></th>\n",
       "      <th></th>\n",
       "      <th></th>\n",
       "      <th></th>\n",
       "      <th></th>\n",
       "    </tr>\n",
       "  </thead>\n",
       "  <tbody>\n",
       "    <tr>\n",
       "      <th>1</th>\n",
       "      <td>445</td>\n",
       "      <td>-1</td>\n",
       "      <td>4</td>\n",
       "      <td>107</td>\n",
       "      <td>1</td>\n",
       "      <td>61</td>\n",
       "    </tr>\n",
       "    <tr>\n",
       "      <th>2</th>\n",
       "      <td>440</td>\n",
       "      <td>-1</td>\n",
       "      <td>6</td>\n",
       "      <td>229</td>\n",
       "      <td>1</td>\n",
       "      <td>57</td>\n",
       "    </tr>\n",
       "    <tr>\n",
       "      <th>3</th>\n",
       "      <td>444</td>\n",
       "      <td>-1</td>\n",
       "      <td>3</td>\n",
       "      <td>271</td>\n",
       "      <td>1</td>\n",
       "      <td>35</td>\n",
       "    </tr>\n",
       "    <tr>\n",
       "      <th>4</th>\n",
       "      <td>444</td>\n",
       "      <td>-1</td>\n",
       "      <td>3</td>\n",
       "      <td>349</td>\n",
       "      <td>1</td>\n",
       "      <td>54</td>\n",
       "    </tr>\n",
       "    <tr>\n",
       "      <th>5</th>\n",
       "      <td>441</td>\n",
       "      <td>-1</td>\n",
       "      <td>0</td>\n",
       "      <td>475</td>\n",
       "      <td>1</td>\n",
       "      <td>54</td>\n",
       "    </tr>\n",
       "  </tbody>\n",
       "</table>\n",
       "</div>"
      ],
      "text/plain": [
       "      day  sum  weekday  key  week_idx  n_weeks\n",
       "user                                           \n",
       "1     445   -1        4  107         1       61\n",
       "2     440   -1        6  229         1       57\n",
       "3     444   -1        3  271         1       35\n",
       "4     444   -1        3  349         1       54\n",
       "5     441   -1        0  475         1       54"
      ]
     },
     "execution_count": 10,
     "metadata": {},
     "output_type": "execute_result"
    }
   ],
   "source": [
    "dfTarget = dfX.groupby('user').last()\n",
    "dfTarget.head()"
   ]
  },
  {
   "cell_type": "markdown",
   "metadata": {},
   "source": [
    "Из-за операции `groupby`, собственно ключ и вводился.\n",
    "\n",
    "Исключим последний день."
   ]
  },
  {
   "cell_type": "code",
   "execution_count": 11,
   "metadata": {
    "collapsed": true
   },
   "outputs": [],
   "source": [
    "dfX.drop(dfTarget['key'], inplace=True)"
   ]
  },
  {
   "cell_type": "markdown",
   "metadata": {},
   "source": [
    "Реализуем несколько методов"
   ]
  },
  {
   "cell_type": "code",
   "execution_count": 12,
   "metadata": {
    "collapsed": true
   },
   "outputs": [],
   "source": [
    "def user_average(dfX, dfTarget=None):\n",
    "    if 'weights' in dfX.columns:\n",
    "        wsum = pd.concat([dfX['user'],\n",
    "                          (dfX['sum'] * dfX['weights'])], axis=1).\\\n",
    "            groupby('user').sum()\n",
    "        wnorm = dfX.groupby('user')['weights'].sum()\n",
    "        wsum.columns = ['sum']\n",
    "        wnorm.name = 'sum'\n",
    "        return wsum.div(wnorm, axis='index')\n",
    "    else:\n",
    "        return dfX.groupby('user')['sum'].mean().to_frame()"
   ]
  },
  {
   "cell_type": "code",
   "execution_count": 13,
   "metadata": {
    "collapsed": false
   },
   "outputs": [],
   "source": [
    "def user_average_for_weekday(dfX, dfTarget):\n",
    "    weekmask = dfX['weekday'] == dfTarget.iloc[dfX['user'] - 1]['weekday']\n",
    "    df_avg_week = user_average(dfX.ix[weekmask], dfTarget)\n",
    "    \n",
    "    #fix misses\n",
    "    df_avg_week_missed = user_average(\n",
    "        dfX[~dfX.user.isin(dfX[weekmask].user.unique())],\n",
    "        dfTarget)\n",
    "    return pd.concat([df_avg_week, df_avg_week_missed])"
   ]
  },
  {
   "cell_type": "code",
   "execution_count": 14,
   "metadata": {
    "collapsed": false
   },
   "outputs": [
    {
     "name": "stdout",
     "output_type": "stream",
     "text": [
      "Requirement already satisfied (use --upgrade to upgrade): wquantiles in /root/miniconda/envs/rep_py2/lib/python2.7/site-packages\r\n",
      "Requirement already satisfied (use --upgrade to upgrade): numpy in /root/miniconda/envs/rep_py2/lib/python2.7/site-packages (from wquantiles)\r\n",
      "\u001b[33mYou are using pip version 7.1.2, however version 8.1.1 is available.\r\n",
      "You should consider upgrading via the 'pip install --upgrade pip' command.\u001b[0m\r\n"
     ]
    }
   ],
   "source": [
    "# package wquantiles https://pypi.python.org/pypi/wquantiles/0.3\n",
    "!pip install wquantiles\n",
    "import weighted"
   ]
  },
  {
   "cell_type": "code",
   "execution_count": 15,
   "metadata": {
    "collapsed": true
   },
   "outputs": [],
   "source": [
    "def user_median(dfX, dfTarget):\n",
    "    tmp = dfX.groupby('user')\n",
    "    if 'weights' in dfX.columns:\n",
    "        tmp = tmp.apply(lambda x: weighted.median(x['sum'], x['weights']))\n",
    "        tmp.name = 'sum'\n",
    "        return tmp.to_frame()\n",
    "    else:\n",
    "        return tmp['sum'].median().to_frame()"
   ]
  },
  {
   "cell_type": "code",
   "execution_count": 16,
   "metadata": {
    "collapsed": true
   },
   "outputs": [],
   "source": [
    "def user_median_for_weekday(dfX, dfTarget):\n",
    "    weekmask = dfX['weekday'] == dfTarget.iloc[dfX['user'] - 1]['weekday']\n",
    "    df_avg_week = user_median(dfX.ix[weekmask], dfTarget)\n",
    "    \n",
    "    # fix misses\n",
    "    df_avg_week_missed = user_median(\n",
    "        dfX[~dfX.user.isin(dfX[weekmask].user.unique())],\n",
    "        dfTarget)\n",
    "    return pd.concat([df_avg_week, df_avg_week_missed])"
   ]
  },
  {
   "cell_type": "markdown",
   "metadata": {},
   "source": [
    "Сделаем схему локального контроля.\n",
    "\n",
    "Будем оценивать качество прогноза суммы для последнего `известного` дня.\n",
    "По условию задачи, оценивается MAE (значит, что нужно будет попробовать медианы вместо средних арифметических)."
   ]
  },
  {
   "cell_type": "code",
   "execution_count": 17,
   "metadata": {
    "collapsed": false
   },
   "outputs": [],
   "source": [
    "dfTarget_test = dfX.groupby('user').last()\n",
    "dfX_test = dfX.drop(dfTarget_test['key'])"
   ]
  },
  {
   "cell_type": "markdown",
   "metadata": {},
   "source": [
    "Оценим методы, описанные выше."
   ]
  },
  {
   "cell_type": "code",
   "execution_count": 18,
   "metadata": {
    "collapsed": true
   },
   "outputs": [],
   "source": [
    "# anti-MemoryError version\n",
    "def mae(ans_true, ans_method):\n",
    "    cnt = 0\n",
    "    for idx in xrange(len(ans_true)):\n",
    "        cnt += abs(ans_true[idx] - ans_method[idx])\n",
    "    return float(cnt) / len(ans_true)"
   ]
  },
  {
   "cell_type": "code",
   "execution_count": 19,
   "metadata": {
    "collapsed": false
   },
   "outputs": [],
   "source": [
    "def mae_df(df_ans, dfTarget_test):\n",
    "    return abs(dfTarget_test['sum'] - df_ans['sum']).mean()"
   ]
  },
  {
   "cell_type": "code",
   "execution_count": 20,
   "metadata": {
    "collapsed": false
   },
   "outputs": [],
   "source": [
    "def mae_scorer(method, dfX_test=dfX_test):\n",
    "    df_ans = method(dfX_test, dfTarget_test)\n",
    "    return abs(df_ans['sum'] - dfTarget_test['sum']).mean()"
   ]
  },
  {
   "cell_type": "markdown",
   "metadata": {},
   "source": [
    "Из данных методов лучше всего себя проявили `user_median_for_weekday` и `user_average_for_weekday`.\n",
    "Очевидна сезонная (длиной в неделю) зависимость суммы пользователя."
   ]
  },
  {
   "cell_type": "code",
   "execution_count": null,
   "metadata": {
    "collapsed": true
   },
   "outputs": [],
   "source": [
    "df_med_week = user_median_for_weekday()\n",
    "df_med_week.to_csv('data/ans/ans_med_week.csv')"
   ]
  },
  {
   "cell_type": "code",
   "execution_count": null,
   "metadata": {
    "collapsed": true
   },
   "outputs": [],
   "source": [
    "df_avg_week = user_average_for_weekday()\n",
    "df_avg_week.to_csv('data/ans/ans_avg_week.csv')"
   ]
  },
  {
   "cell_type": "markdown",
   "metadata": {
    "heading_collapsed": false,
    "level": 1
   },
   "source": [
    "# Графики, изучение данных"
   ]
  },
  {
   "cell_type": "markdown",
   "metadata": {},
   "source": [
    "Посмотрим на суммы средние дневные чеки."
   ]
  },
  {
   "cell_type": "code",
   "execution_count": 21,
   "metadata": {
    "collapsed": false
   },
   "outputs": [
    {
     "data": {
      "image/png": "[encoded data removed]",
      "text/plain": [
       "<matplotlib.figure.Figure at 0x7f4898f03e90>"
      ]
     },
     "metadata": {},
     "output_type": "display_data"
    }
   ],
   "source": [
    "df_mean_daily = dfX.groupby('day')['sum'].mean().to_frame()\n",
    "fig = figure(figsize=(12, 8))\n",
    "plot(df_mean_daily['sum'])\n",
    "xlabel('day')\n",
    "ylabel('mean sum')\n",
    "show()"
   ]
  },
  {
   "cell_type": "markdown",
   "metadata": {},
   "source": [
    "Так же посмотрим на дневную выручку. От предыдущего графика принципиально будет отличаться отсутствием нормировки на количество человек, посетивших магазин за день."
   ]
  },
  {
   "cell_type": "code",
   "execution_count": 22,
   "metadata": {
    "collapsed": false
   },
   "outputs": [
    {
     "data": {
      "image/png": "[encoded data removed]",
      "text/plain": [
       "<matplotlib.figure.Figure at 0x7f4898f33f90>"
      ]
     },
     "metadata": {},
     "output_type": "display_data"
    }
   ],
   "source": [
    "df_sum_daily = dfX.groupby('day')['sum'].sum().to_frame()\n",
    "fig = figure(figsize=(12, 8))\n",
    "plot(df_sum_daily['sum'])\n",
    "xlabel('day')\n",
    "ylabel('daily sum')\n",
    "show()"
   ]
  },
  {
   "cell_type": "markdown",
   "metadata": {},
   "source": [
    "Видна сезонность в данных, отсутствует тренд. Виден один макс-пик и два мин-пика в течение года. Из-за отсутствия конкретных дат в данных, можно только предполагать, с чем какими событиями они связаны.\n",
    "\n",
    "Качественные различия в графиках, среднего чека и дневной выручки, явно связано с посещаемостью магазина."
   ]
  },
  {
   "cell_type": "markdown",
   "metadata": {},
   "source": [
    "На распределение количества дневных посещений "
   ]
  },
  {
   "cell_type": "code",
   "execution_count": 23,
   "metadata": {
    "collapsed": false
   },
   "outputs": [
    {
     "data": {
      "image/png": "[encoded data removed]",
      "text/plain": [
       "<matplotlib.figure.Figure at 0x7f489d876810>"
      ]
     },
     "metadata": {},
     "output_type": "display_data"
    }
   ],
   "source": [
    "dfX.groupby('day').size().hist()\n",
    "xlabel('#visitors')\n",
    "ylabel('#days')\n",
    "show()"
   ]
  },
  {
   "cell_type": "markdown",
   "metadata": {},
   "source": [
    "Посмотрим на распределение посещений по дням недели, подтвердим недельную сезонность."
   ]
  },
  {
   "cell_type": "code",
   "execution_count": 24,
   "metadata": {
    "collapsed": false
   },
   "outputs": [
    {
     "data": {
      "text/plain": [
       "<matplotlib.axes._subplots.AxesSubplot at 0x7f481b5a8490>"
      ]
     },
     "execution_count": 24,
     "metadata": {},
     "output_type": "execute_result"
    },
    {
     "data": {
      "image/png": "[encoded data removed]",
      "text/plain": [
       "<matplotlib.figure.Figure at 0x7f481b27a310>"
      ]
     },
     "metadata": {},
     "output_type": "display_data"
    }
   ],
   "source": [
    "dfX.groupby('weekday').size().plot(kind='bar')"
   ]
  },
  {
   "cell_type": "markdown",
   "metadata": {},
   "source": [
    "Различия по посещениям есть, но они не значительны. Посмотрим на распределение средних чеков по дням недели."
   ]
  },
  {
   "cell_type": "code",
   "execution_count": 25,
   "metadata": {
    "collapsed": false
   },
   "outputs": [
    {
     "data": {
      "text/plain": [
       "<Container object of 7 artists>"
      ]
     },
     "execution_count": 25,
     "metadata": {},
     "output_type": "execute_result"
    },
    {
     "data": {
      "image/png": "[encoded data removed]",
      "text/plain": [
       "<matplotlib.figure.Figure at 0x7f4884506710>"
      ]
     },
     "metadata": {},
     "output_type": "display_data"
    }
   ],
   "source": [
    "bar(range(7), dfX.groupby('weekday')['sum'].mean())"
   ]
  },
  {
   "cell_type": "code",
   "execution_count": 26,
   "metadata": {
    "collapsed": false
   },
   "outputs": [],
   "source": [
    "dfg = dfX.groupby('weekday').\\\n",
    "    apply(lambda x: x.groupby('day')['sum'].mean()).to_frame()"
   ]
  },
  {
   "cell_type": "code",
   "execution_count": 27,
   "metadata": {
    "collapsed": false
   },
   "outputs": [
    {
     "data": {
      "text/plain": [
       "<matplotlib.legend.Legend at 0x7f487ca7e690>"
      ]
     },
     "execution_count": 27,
     "metadata": {},
     "output_type": "execute_result"
    },
    {
     "data": {
      "image/png": "[encoded data removed]",
      "text/plain": [
       "<matplotlib.figure.Figure at 0x7f4898861e10>"
      ]
     },
     "metadata": {},
     "output_type": "display_data"
    }
   ],
   "source": [
    "figure(figsize=(12, 8))\n",
    "for weekday in xrange(7):\n",
    "    plot(dfg.loc[weekday], label='weekday#{}'.format(weekday))\n",
    "xlabel('week')\n",
    "ylabel('sum')\n",
    "legend()"
   ]
  },
  {
   "cell_type": "markdown",
   "metadata": {},
   "source": [
    "Выделяются два дня недели: #2 и #3, которые, скорее всего, соответствуют субботе и воскресенью."
   ]
  },
  {
   "cell_type": "markdown",
   "metadata": {},
   "source": [
    "Посмотрим на распределения количества посещений и сумм покупок, совершённых однм человеком"
   ]
  },
  {
   "cell_type": "code",
   "execution_count": 28,
   "metadata": {
    "collapsed": false
   },
   "outputs": [
    {
     "data": {
      "text/plain": [
       "<matplotlib.axes._subplots.AxesSubplot at 0x7f487cab8ed0>"
      ]
     },
     "execution_count": 28,
     "metadata": {},
     "output_type": "execute_result"
    },
    {
     "data": {
      "image/png": "[encoded data removed]",
      "text/plain": [
       "<matplotlib.figure.Figure at 0x7f487c99c4d0>"
      ]
     },
     "metadata": {},
     "output_type": "display_data"
    }
   ],
   "source": [
    "dfX.groupby('user').size().hist(bins=15)"
   ]
  },
  {
   "cell_type": "code",
   "execution_count": 29,
   "metadata": {
    "collapsed": false
   },
   "outputs": [
    {
     "data": {
      "text/plain": [
       "<matplotlib.axes._subplots.AxesSubplot at 0x7f487c7780d0>"
      ]
     },
     "execution_count": 29,
     "metadata": {},
     "output_type": "execute_result"
    },
    {
     "data": {
      "image/png": "[encoded data removed]",
      "text/plain": [
       "<matplotlib.figure.Figure at 0x7f487c858290>"
      ]
     },
     "metadata": {},
     "output_type": "display_data"
    }
   ],
   "source": [
    "dfX.groupby('user')['sum'].mean().hist(bins=15, range=(0, 1500))"
   ]
  },
  {
   "cell_type": "markdown",
   "metadata": {},
   "source": [
    "Распределения унимодальные, распределение среднего чека гамма-образное"
   ]
  },
  {
   "cell_type": "markdown",
   "metadata": {
    "heading_collapsed": false,
    "level": 2
   },
   "source": [
    "## Весовые схемы"
   ]
  },
  {
   "cell_type": "markdown",
   "metadata": {},
   "source": [
    "Попробуем применить весовые схемы (вес ставится в соответствие недели, и уменьшается при удалении в прошлое). Не рассматриваем недели, в которые клиент не посетил магазин.\n",
    "\n",
    "Здесь $d$ -- количество недель, в которые клиент посетил магазин. Последней посещённой неделе соответствует индекс $i=1$, ..., первой: $i=d$."
   ]
  },
  {
   "cell_type": "markdown",
   "metadata": {},
   "source": [
    "* Линейная схема с параметром степени\n",
    "\n",
    "    $$ w_i = \\left(\\frac{d-i+1}{d}\\right)^\\delta = \\left(1 - \\frac{i-1}{d}\\right)^\\delta, i \\in \\{1, \\dots, d\\}, \\delta \\in [0; +\\infty) $$\n",
    "\n",
    "* Экспоненциальные:\n",
    "\n",
    "  $$ w_i = \\delta^i, i \\in \\{1, \\dots, d\\}, \\delta \\in (0; 1] $$\n",
    "\n",
    "* Обратно-степенные:\n",
    "\n",
    "  $$ w_i  = \\frac{1}{i^\\delta}, i \\in \\{1, \\dots, d\\}, \\delta \\in [0; +\\infty)  $$\n",
    "\n",
    "Веса, естественно, следует нормировать перед использованием."
   ]
  },
  {
   "cell_type": "code",
   "execution_count": 30,
   "metadata": {
    "collapsed": false
   },
   "outputs": [
    {
     "data": {
      "text/html": [
       "<div>\n",
       "<table border=\"1\" class=\"dataframe\">\n",
       "  <thead>\n",
       "    <tr style=\"text-align: right;\">\n",
       "      <th></th>\n",
       "      <th>user</th>\n",
       "      <th>day</th>\n",
       "      <th>sum</th>\n",
       "      <th>weekday</th>\n",
       "      <th>key</th>\n",
       "      <th>week_idx</th>\n",
       "      <th>n_weeks</th>\n",
       "    </tr>\n",
       "  </thead>\n",
       "  <tbody>\n",
       "    <tr>\n",
       "      <th>0</th>\n",
       "      <td>1</td>\n",
       "      <td>3</td>\n",
       "      <td>1146</td>\n",
       "      <td>3</td>\n",
       "      <td>0</td>\n",
       "      <td>61</td>\n",
       "      <td>61</td>\n",
       "    </tr>\n",
       "    <tr>\n",
       "      <th>1</th>\n",
       "      <td>1</td>\n",
       "      <td>5</td>\n",
       "      <td>71</td>\n",
       "      <td>5</td>\n",
       "      <td>1</td>\n",
       "      <td>61</td>\n",
       "      <td>61</td>\n",
       "    </tr>\n",
       "    <tr>\n",
       "      <th>2</th>\n",
       "      <td>1</td>\n",
       "      <td>6</td>\n",
       "      <td>65</td>\n",
       "      <td>6</td>\n",
       "      <td>2</td>\n",
       "      <td>61</td>\n",
       "      <td>61</td>\n",
       "    </tr>\n",
       "    <tr>\n",
       "      <th>3</th>\n",
       "      <td>1</td>\n",
       "      <td>10</td>\n",
       "      <td>63</td>\n",
       "      <td>3</td>\n",
       "      <td>3</td>\n",
       "      <td>60</td>\n",
       "      <td>61</td>\n",
       "    </tr>\n",
       "    <tr>\n",
       "      <th>4</th>\n",
       "      <td>1</td>\n",
       "      <td>12</td>\n",
       "      <td>31</td>\n",
       "      <td>5</td>\n",
       "      <td>4</td>\n",
       "      <td>60</td>\n",
       "      <td>61</td>\n",
       "    </tr>\n",
       "  </tbody>\n",
       "</table>\n",
       "</div>"
      ],
      "text/plain": [
       "   user  day   sum  weekday  key  week_idx  n_weeks\n",
       "0     1    3  1146        3    0        61       61\n",
       "1     1    5    71        5    1        61       61\n",
       "2     1    6    65        6    2        61       61\n",
       "3     1   10    63        3    3        60       61\n",
       "4     1   12    31        5    4        60       61"
      ]
     },
     "execution_count": 30,
     "metadata": {},
     "output_type": "execute_result"
    }
   ],
   "source": [
    "dfX.head()"
   ]
  },
  {
   "cell_type": "code",
   "execution_count": 31,
   "metadata": {
    "collapsed": true
   },
   "outputs": [],
   "source": [
    "def weights_linear(dfX, delta):\n",
    "    return pow((1 - (dfX.week_idx - 1) / dfX.n_weeks), delta)"
   ]
  },
  {
   "cell_type": "code",
   "execution_count": 32,
   "metadata": {
    "collapsed": true
   },
   "outputs": [],
   "source": [
    "def weights_exp(dfX, delta):\n",
    "    return pow(delta, dfX.week_idx)"
   ]
  },
  {
   "cell_type": "code",
   "execution_count": 33,
   "metadata": {
    "collapsed": true
   },
   "outputs": [],
   "source": [
    "def weights_reversed(dfX, delta):\n",
    "    return pow(dfX.week_idx, -delta)"
   ]
  },
  {
   "cell_type": "code",
   "execution_count": null,
   "metadata": {
    "collapsed": true
   },
   "outputs": [],
   "source": [
    "def wcombine(est_method, weight_method, delta):\n",
    "    def wrapper(dfX, dfTarget):\n",
    "        w = weight_method(dfX, delta)\n",
    "        w.name = 'weights'\n",
    "        dfXw = pd.concat([dfX, w], axis=1)\n",
    "        return est_method(dfXw, dfTarget)\n",
    "    wrapper.__name__ = '{} <{}: delta={}>'.format(est_method.__name__,\n",
    "                                                  weight_method.__name__,\n",
    "                                                  delta)\n",
    "    return wrapper"
   ]
  },
  {
   "cell_type": "code",
   "execution_count": null,
   "metadata": {
    "collapsed": true
   },
   "outputs": [],
   "source": [
    "#this will cause MemoryError\n",
    "#mae_scorer(wcombine(weights_linear, user_average, 1.0))"
   ]
  },
  {
   "cell_type": "markdown",
   "metadata": {},
   "source": [
    "# Telegram-логгер\n",
    "Опционально. Чтобы не скучать, пока ждём результатов подбора параметров"
   ]
  },
  {
   "cell_type": "code",
   "execution_count": null,
   "metadata": {
    "collapsed": true
   },
   "outputs": [],
   "source": [
    "%%bash\n",
    "git clone https://github.com/urandon/pyloggers.git\n",
    "cd pyloggers/ && git pull"
   ]
  },
  {
   "cell_type": "code",
   "execution_count": 39,
   "metadata": {
    "collapsed": false
   },
   "outputs": [
    {
     "data": {
      "text/html": [
       "join <a href=\"https://telegram.me/uranlogger_bot\">uranlogger_bot</a> and subscribe by <b>/reader msusums</b>"
      ],
      "text/plain": [
       "<IPython.core.display.HTML object>"
      ]
     },
     "metadata": {},
     "output_type": "display_data"
    }
   ],
   "source": [
    "# git: https://github.com/urandon/pyloggers.git\n",
    "from pyloggers.telegram_logger import TelegramLogger\n",
    "tl = TelegramLogger(name='msusums', print_dual_logging=False)"
   ]
  },
  {
   "cell_type": "markdown",
   "metadata": {
    "heading_collapsed": false,
    "level": 1
   },
   "source": [
    "# Эксперименты"
   ]
  },
  {
   "cell_type": "markdown",
   "metadata": {},
   "source": [
    "Рассмотрим невесовые схемы"
   ]
  },
  {
   "cell_type": "code",
   "execution_count": 41,
   "metadata": {
    "collapsed": false
   },
   "outputs": [
    {
     "data": {
      "text/html": [
       "<div>\n",
       "<table border=\"1\" class=\"dataframe\">\n",
       "  <thead>\n",
       "    <tr style=\"text-align: right;\">\n",
       "      <th></th>\n",
       "      <th>MAE penult</th>\n",
       "    </tr>\n",
       "  </thead>\n",
       "  <tbody>\n",
       "    <tr>\n",
       "      <th>user_average</th>\n",
       "      <td>269.916970</td>\n",
       "    </tr>\n",
       "    <tr>\n",
       "      <th>user_average_for_weekday</th>\n",
       "      <td>256.218031</td>\n",
       "    </tr>\n",
       "    <tr>\n",
       "      <th>user_median</th>\n",
       "      <td>264.383650</td>\n",
       "    </tr>\n",
       "    <tr>\n",
       "      <th>user_median_for_weekday</th>\n",
       "      <td>253.784068</td>\n",
       "    </tr>\n",
       "  </tbody>\n",
       "</table>\n",
       "</div>"
      ],
      "text/plain": [
       "                          MAE penult\n",
       "user_average              269.916970\n",
       "user_average_for_weekday  256.218031\n",
       "user_median               264.383650\n",
       "user_median_for_weekday   253.784068"
      ]
     },
     "execution_count": 41,
     "metadata": {},
     "output_type": "execute_result"
    }
   ],
   "source": [
    "estimate_methods = [\n",
    "    user_average,\n",
    "    user_average_for_weekday,\n",
    "    user_median,\n",
    "    user_median_for_weekday\n",
    "]\n",
    "\n",
    "scores = {method.__name__: {'MAE penult': mae_scorer(method)}\n",
    "          for method in estimate_methods}\n",
    "pd.DataFrame(scores).T"
   ]
  },
  {
   "cell_type": "markdown",
   "metadata": {},
   "source": [
    "Методы, учитывающие только день недели покупки оказались лучше по качеству."
   ]
  },
  {
   "cell_type": "markdown",
   "metadata": {},
   "source": [
    "Попробуем весовые схемы. Воспользуемся методом `user_average_for_weekday` для оценки и настройки параметров весовых схем. Несмотря на лучшую теоретическую обоснованность выбора медианы для минимизации MAE, чем среднего арифметического, результат на Kaggle был лучше у среднего, а не у `user_median_for_weekday`."
   ]
  },
  {
   "cell_type": "code",
   "execution_count": 201,
   "metadata": {
    "collapsed": false
   },
   "outputs": [],
   "source": [
    "scores = {}\n",
    "for delta in linspace(0.1, 1, 10):\n",
    "    weight_methods = [\n",
    "        weights_linear,\n",
    "        weights_exp,\n",
    "        weights_reversed,\n",
    "    ]\n",
    "    \n",
    "    scores[delta] = {}\n",
    "    for method in weight_methods:\n",
    "        w = method(dfX_test, delta)\n",
    "        w.name = 'weights'\n",
    "        dfXw_test = pd.concat([dfX_test, w], axis=1)\n",
    "        df_ans = user_average_for_weekday(dfXw_test, dfTarget_test)\n",
    "        if df_ans.isnull().any().any():\n",
    "            score = np.nan\n",
    "        else:\n",
    "            score = mae_df(dfTarget_test, df_ans)\n",
    "        scores[delta][method.__name__] = score\n",
    "        tl.push('{} delta {} done: score {}'.format(\n",
    "                method.__name__, delta, score))"
   ]
  },
  {
   "cell_type": "code",
   "execution_count": 229,
   "metadata": {
    "collapsed": false
   },
   "outputs": [
    {
     "data": {
      "text/html": [
       "<div>\n",
       "<table border=\"1\" class=\"dataframe\">\n",
       "  <thead>\n",
       "    <tr style=\"text-align: right;\">\n",
       "      <th></th>\n",
       "      <th>weights_exp</th>\n",
       "      <th>weights_linear</th>\n",
       "      <th>weights_reversed</th>\n",
       "    </tr>\n",
       "  </thead>\n",
       "  <tbody>\n",
       "    <tr>\n",
       "      <th>0.1</th>\n",
       "      <td>313.611866</td>\n",
       "      <td>255.875218</td>\n",
       "      <td>255.709931</td>\n",
       "    </tr>\n",
       "    <tr>\n",
       "      <th>0.2</th>\n",
       "      <td>309.298288</td>\n",
       "      <td>255.647365</td>\n",
       "      <td>255.288044</td>\n",
       "    </tr>\n",
       "    <tr>\n",
       "      <th>0.3</th>\n",
       "      <td>305.072077</td>\n",
       "      <td>255.517366</td>\n",
       "      <td>254.974355</td>\n",
       "    </tr>\n",
       "    <tr>\n",
       "      <th>0.4</th>\n",
       "      <td>300.575944</td>\n",
       "      <td>255.456888</td>\n",
       "      <td>254.788023</td>\n",
       "    </tr>\n",
       "    <tr>\n",
       "      <th>0.5</th>\n",
       "      <td>295.505394</td>\n",
       "      <td>255.452483</td>\n",
       "      <td>254.747616</td>\n",
       "    </tr>\n",
       "    <tr>\n",
       "      <th>0.6</th>\n",
       "      <td>289.493904</td>\n",
       "      <td>255.968735</td>\n",
       "      <td>254.869772</td>\n",
       "    </tr>\n",
       "    <tr>\n",
       "      <th>0.7</th>\n",
       "      <td>282.052749</td>\n",
       "      <td>255.566776</td>\n",
       "      <td>255.155918</td>\n",
       "    </tr>\n",
       "    <tr>\n",
       "      <th>0.8</th>\n",
       "      <td>272.548939</td>\n",
       "      <td>255.672015</td>\n",
       "      <td>255.617808</td>\n",
       "    </tr>\n",
       "    <tr>\n",
       "      <th>0.9</th>\n",
       "      <td>260.661156</td>\n",
       "      <td>256.282418</td>\n",
       "      <td>256.255500</td>\n",
       "    </tr>\n",
       "    <tr>\n",
       "      <th>1.0</th>\n",
       "      <td>256.218031</td>\n",
       "      <td>256.447291</td>\n",
       "      <td>257.054779</td>\n",
       "    </tr>\n",
       "  </tbody>\n",
       "</table>\n",
       "</div>"
      ],
      "text/plain": [
       "     weights_exp  weights_linear  weights_reversed\n",
       "0.1   313.611866      255.875218        255.709931\n",
       "0.2   309.298288      255.647365        255.288044\n",
       "0.3   305.072077      255.517366        254.974355\n",
       "0.4   300.575944      255.456888        254.788023\n",
       "0.5   295.505394      255.452483        254.747616\n",
       "0.6   289.493904      255.968735        254.869772\n",
       "0.7   282.052749      255.566776        255.155918\n",
       "0.8   272.548939      255.672015        255.617808\n",
       "0.9   260.661156      256.282418        256.255500\n",
       "1.0   256.218031      256.447291        257.054779"
      ]
     },
     "execution_count": 229,
     "metadata": {},
     "output_type": "execute_result"
    }
   ],
   "source": [
    "pd.DataFrame(scores).T"
   ]
  },
  {
   "cell_type": "markdown",
   "metadata": {},
   "source": [
    "*  Экспоненциальная схема не дала никакого улучшения. Далее её не рассматриваем\n",
    "*  Линейная схема  показала лучший результат при `delta` = 0.5\n",
    "*  Обратно-степенная схема показала свой лучший результат при `delta` = 0.5"
   ]
  },
  {
   "cell_type": "markdown",
   "metadata": {
    "heading_collapsed": false,
    "level": 3
   },
   "source": [
    "### Выпуклые комбинации"
   ]
  },
  {
   "cell_type": "markdown",
   "metadata": {},
   "source": [
    "Попробуем выпуклые комбинации лучших решений."
   ]
  },
  {
   "cell_type": "code",
   "execution_count": 221,
   "metadata": {
    "collapsed": false
   },
   "outputs": [],
   "source": [
    "best_params = [\n",
    "    (weights_linear, 0.5),\n",
    "    (weights_reversed, 0.5)\n",
    "]\n",
    "\n",
    "best_anss = []\n",
    "\n",
    "for method, delta in best_params:\n",
    "    w = method(dfX_test, delta)\n",
    "    w.name = 'weights'\n",
    "    dfXw_test = pd.concat([dfX_test, w], axis=1)\n",
    "    df_ans = user_average_for_weekday(dfXw_test, dfTarget_test)\n",
    "    best_anss += [df_ans]\n",
    "    tl.push('{} delta {}'.format(method.__name__, delta))\n",
    "tl.push('------------------------')"
   ]
  },
  {
   "cell_type": "code",
   "execution_count": null,
   "metadata": {
    "collapsed": true
   },
   "outputs": [],
   "source": [
    "best_params"
   ]
  },
  {
   "cell_type": "code",
   "execution_count": 298,
   "metadata": {
    "collapsed": false
   },
   "outputs": [],
   "source": [
    "scores_alpha = {}\n",
    "for alpha in linspace(0, 1, 10):\n",
    "    df_alpha = best_anss[0] * alpha + best_anss[1] * (1-alpha)\n",
    "    scores_alpha[alpha] = mae_df(df_alpha, dfTarget_test)"
   ]
  },
  {
   "cell_type": "code",
   "execution_count": 299,
   "metadata": {
    "collapsed": false
   },
   "outputs": [
    {
     "data": {
      "image/png": "[encoded data removed]",
      "text/plain": [
       "<matplotlib.figure.Figure at 0x4a6e5da0>"
      ]
     },
     "metadata": {},
     "output_type": "display_data"
    }
   ],
   "source": [
    "plot(*zip(*sorted(scores_alpha.items())))\n",
    "xlabel('alpha')\n",
    "ylabel('MAE penault')\n",
    "title('Convex combination')\n",
    "show()"
   ]
  },
  {
   "cell_type": "markdown",
   "metadata": {},
   "source": [
    "Перебор выпуклых комбинаций исключил `(weights_linear, 0.5)`. Лучшая весовая модель: `(weights_linear, 0.5)`"
   ]
  },
  {
   "cell_type": "code",
   "execution_count": 326,
   "metadata": {
    "collapsed": true
   },
   "outputs": [],
   "source": [
    "df_best_aw = best_anss[1]"
   ]
  },
  {
   "cell_type": "code",
   "execution_count": 328,
   "metadata": {
    "collapsed": false
   },
   "outputs": [
    {
     "data": {
      "text/plain": [
       "254.74761572563699"
      ]
     },
     "execution_count": 328,
     "metadata": {},
     "output_type": "execute_result"
    }
   ],
   "source": [
    "mae_df(df_best_aw, dfTarget_test)"
   ]
  },
  {
   "cell_type": "markdown",
   "metadata": {},
   "source": [
    "Так же добавим в выпуклые комбинации результаты `user_average`. Посмотрим, улучшится ли результат"
   ]
  },
  {
   "cell_type": "code",
   "execution_count": 306,
   "metadata": {
    "collapsed": false
   },
   "outputs": [],
   "source": [
    "scores = {}\n",
    "for delta in linspace(0.1, 1, 10):\n",
    "    weight_methods = [\n",
    "        weights_linear,\n",
    "        weights_exp,\n",
    "        weights_reversed,\n",
    "    ]\n",
    "    \n",
    "    scores[delta] = {}\n",
    "    for method in weight_methods:\n",
    "        w = method(dfX_test, delta)\n",
    "        w.name = 'weights'\n",
    "        dfXw_test = pd.concat([dfX_test, w], axis=1)\n",
    "        df_ans = user_average(dfXw_test, dfTarget_test)\n",
    "        if df_ans.isnull().any().any():\n",
    "            score = np.nan\n",
    "        else:\n",
    "            score = mae_df(dfTarget_test, df_ans)\n",
    "        scores[delta][method.__name__] = score\n",
    "        tl.push('{} delta {} done: score {}'.format(\n",
    "                method.__name__, delta, score))\n",
    "tl.push('------------------------')"
   ]
  },
  {
   "cell_type": "code",
   "execution_count": 325,
   "metadata": {
    "collapsed": false
   },
   "outputs": [
    {
     "data": {
      "text/html": [
       "<div>\n",
       "<table border=\"1\" class=\"dataframe\">\n",
       "  <thead>\n",
       "    <tr style=\"text-align: right;\">\n",
       "      <th></th>\n",
       "      <th>weights_exp</th>\n",
       "      <th>weights_linear</th>\n",
       "      <th>weights_reversed</th>\n",
       "    </tr>\n",
       "  </thead>\n",
       "  <tbody>\n",
       "    <tr>\n",
       "      <th>0.1</th>\n",
       "      <td>331.814442</td>\n",
       "      <td>269.606311</td>\n",
       "      <td>269.579328</td>\n",
       "    </tr>\n",
       "    <tr>\n",
       "      <th>0.2</th>\n",
       "      <td>318.457798</td>\n",
       "      <td>269.356904</td>\n",
       "      <td>269.268471</td>\n",
       "    </tr>\n",
       "    <tr>\n",
       "      <th>0.3</th>\n",
       "      <td>307.733922</td>\n",
       "      <td>269.114759</td>\n",
       "      <td>268.994777</td>\n",
       "    </tr>\n",
       "    <tr>\n",
       "      <th>0.4</th>\n",
       "      <td>298.698228</td>\n",
       "      <td>268.919138</td>\n",
       "      <td>268.767225</td>\n",
       "    </tr>\n",
       "    <tr>\n",
       "      <th>0.5</th>\n",
       "      <td>501.529783</td>\n",
       "      <td>268.749847</td>\n",
       "      <td>268.605140</td>\n",
       "    </tr>\n",
       "    <tr>\n",
       "      <th>0.6</th>\n",
       "      <td>284.111818</td>\n",
       "      <td>268.602717</td>\n",
       "      <td>268.523655</td>\n",
       "    </tr>\n",
       "    <tr>\n",
       "      <th>0.7</th>\n",
       "      <td>278.081657</td>\n",
       "      <td>268.474741</td>\n",
       "      <td>268.534841</td>\n",
       "    </tr>\n",
       "    <tr>\n",
       "      <th>0.8</th>\n",
       "      <td>272.708436</td>\n",
       "      <td>268.364231</td>\n",
       "      <td>268.654869</td>\n",
       "    </tr>\n",
       "    <tr>\n",
       "      <th>0.9</th>\n",
       "      <td>268.480810</td>\n",
       "      <td>268.269407</td>\n",
       "      <td>268.896930</td>\n",
       "    </tr>\n",
       "    <tr>\n",
       "      <th>1.0</th>\n",
       "      <td>501.529783</td>\n",
       "      <td>268.189182</td>\n",
       "      <td>269.267593</td>\n",
       "    </tr>\n",
       "  </tbody>\n",
       "</table>\n",
       "</div>"
      ],
      "text/plain": [
       "     weights_exp  weights_linear  weights_reversed\n",
       "0.1   331.814442      269.606311        269.579328\n",
       "0.2   318.457798      269.356904        269.268471\n",
       "0.3   307.733922      269.114759        268.994777\n",
       "0.4   298.698228      268.919138        268.767225\n",
       "0.5   501.529783      268.749847        268.605140\n",
       "0.6   284.111818      268.602717        268.523655\n",
       "0.7   278.081657      268.474741        268.534841\n",
       "0.8   272.708436      268.364231        268.654869\n",
       "0.9   268.480810      268.269407        268.896930\n",
       "1.0   501.529783      268.189182        269.267593"
      ]
     },
     "execution_count": 325,
     "metadata": {},
     "output_type": "execute_result"
    }
   ],
   "source": [
    "pd.DataFrame(scores).T"
   ]
  },
  {
   "cell_type": "markdown",
   "metadata": {},
   "source": [
    "Результаты для этого метода везде плохи. В качестве лучшего возьмём `(weights_linear, 1.0)`"
   ]
  },
  {
   "cell_type": "code",
   "execution_count": 330,
   "metadata": {
    "collapsed": false
   },
   "outputs": [
    {
     "data": {
      "text/plain": [
       "<pyloggers.telegram_logger.TelegramLogger at 0x4aa825c0>"
      ]
     },
     "execution_count": 330,
     "metadata": {},
     "output_type": "execute_result"
    }
   ],
   "source": [
    "best_params = [\n",
    "    (user_average_for_weekday, weights_reversed, 0.5),\n",
    "    (user_average, weights_linear, 0.5)\n",
    "]\n",
    "\n",
    "best_anss = []\n",
    "\n",
    "for est, method, delta in best_params:\n",
    "    w = method(dfX_test, delta)\n",
    "    w.name = 'weights'\n",
    "    dfXw_test = pd.concat([dfX_test, w], axis=1)\n",
    "    df_ans = est(dfXw_test, dfTarget_test)\n",
    "    best_anss += [df_ans]\n",
    "    tl.push('{} delta {}'.format(method.__name__, delta))\n",
    "tl.push('------------------------')"
   ]
  },
  {
   "cell_type": "code",
   "execution_count": 403,
   "metadata": {
    "collapsed": true
   },
   "outputs": [],
   "source": [
    "scores_alpha = {}\n",
    "for alpha in linspace(0, 1, 11):\n",
    "    df_alpha = best_anss[0] * alpha + best_anss[1] * (1-alpha)\n",
    "    scores_alpha[alpha] = mae_df(df_alpha, dfTarget_test)"
   ]
  },
  {
   "cell_type": "code",
   "execution_count": 404,
   "metadata": {
    "collapsed": false
   },
   "outputs": [
    {
     "data": {
      "image/png": "[encoded data removed]",
      "text/plain": [
       "<matplotlib.figure.Figure at 0x20ee7780>"
      ]
     },
     "metadata": {},
     "output_type": "display_data"
    }
   ],
   "source": [
    "plot(*zip(*sorted(scores_alpha.items())))\n",
    "xlabel('alpha')\n",
    "ylabel('MAE penault')\n",
    "title('Convex combination')\n",
    "show()"
   ]
  },
  {
   "cell_type": "markdown",
   "metadata": {},
   "source": [
    "Добавление `user_average_week` в линейную комбинацию всё-таки улучшило её.\n",
    "\n",
    "Лучший результат: $(uafw, wr delta=0.5) * 0.8 + (ua, wl delta=0.5) * 0.2$"
   ]
  },
  {
   "cell_type": "code",
   "execution_count": 418,
   "metadata": {
    "collapsed": false
   },
   "outputs": [
    {
     "name": "stdout",
     "output_type": "stream",
     "text": [
      "MAE penault: 252.560219846\n"
     ]
    }
   ],
   "source": [
    "alpha = 0.8\n",
    "best_total = best_anss[0] * alpha + best_anss[1] * (1-alpha)\n",
    "print 'MAE penault:', mae_df(best_total, dfTarget_test)"
   ]
  },
  {
   "cell_type": "markdown",
   "metadata": {
    "heading_collapsed": false,
    "level": 1
   },
   "source": [
    "# Итоговый алгоритм"
   ]
  },
  {
   "cell_type": "code",
   "execution_count": 42,
   "metadata": {
    "collapsed": false
   },
   "outputs": [
    {
     "data": {
      "text/plain": [
       "<pyloggers.telegram_logger.TelegramLogger at 0x7f4885f54450>"
      ]
     },
     "execution_count": 42,
     "metadata": {},
     "output_type": "execute_result"
    }
   ],
   "source": [
    "best_params = [\n",
    "    (user_average_for_weekday, weights_reversed, 0.5),\n",
    "    (user_average, weights_linear, 0.5)\n",
    "]\n",
    "alphas = [0.8, 0.2]\n",
    "\n",
    "best_anss = []\n",
    "for est, method, delta in best_params:\n",
    "    w = method(dfX, delta)\n",
    "    w.name = 'weights'\n",
    "    dfXw = pd.concat([dfX, w], axis=1)\n",
    "    df_ans = est(dfXw, dfTarget)\n",
    "    best_anss += [df_ans]\n",
    "    tl.push('{} delta {}'.format(method.__name__, delta))\n",
    "best_ans = best_anss[0] * alphas[0] + best_anss[1] * alphas[1]\n",
    "tl.push('final answer evaluation done')"
   ]
  },
  {
   "cell_type": "code",
   "execution_count": 62,
   "metadata": {
    "collapsed": false
   },
   "outputs": [],
   "source": [
    "best_ans.to_csv('data/ans/best_ans.csv')"
   ]
  }
 ],
 "metadata": {
  "hide_input": false,
  "kernelspec": {
   "display_name": "Python 2",
   "language": "python",
   "name": "python2"
  },
  "language_info": {
   "codemirror_mode": {
    "name": "ipython",
    "version": 2
   },
   "file_extension": ".py",
   "mimetype": "text/x-python",
   "name": "python",
   "nbconvert_exporter": "python",
   "pygments_lexer": "ipython2",
   "version": "2.7.10"
  }
 },
 "nbformat": 4,
 "nbformat_minor": 0
}
